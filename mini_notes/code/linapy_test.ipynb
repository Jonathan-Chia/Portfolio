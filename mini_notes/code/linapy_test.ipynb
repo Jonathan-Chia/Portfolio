{
 "cells": [
  {
   "cell_type": "markdown",
   "id": "ad20abd0-9ae5-4fac-994d-d0072f061750",
   "metadata": {},
   "source": [
    "# Testing Lineapy Package inside my jupyter lab - tensorflow docker container\n",
    "\n",
    "See this link: https://docs.lineapy.org/en/latest/fundamentals/intro.html"
   ]
  },
  {
   "cell_type": "code",
   "execution_count": 4,
   "id": "c3168fbe-74ec-4832-b782-b8ba849c1a72",
   "metadata": {},
   "outputs": [],
   "source": [
    "%load_ext lineapy"
   ]
  },
  {
   "cell_type": "code",
   "execution_count": 6,
   "id": "222cba4f-eab1-4a7f-8730-9e2180458951",
   "metadata": {},
   "outputs": [
    {
     "data": {
      "text/plain": [
       "ElasticNet()"
      ]
     },
     "execution_count": 6,
     "metadata": {},
     "output_type": "execute_result"
    }
   ],
   "source": [
    "import lineapy\n",
    "import pandas as pd\n",
    "from sklearn.linear_model import LinearRegression, ElasticNet\n",
    "\n",
    "# Load data\n",
    "df = pd.read_csv(\"https://raw.githubusercontent.com/LineaLabs/lineapy/main/examples/tutorials/data/iris.csv\")\n",
    "\n",
    "# Some very basic feature engineering\n",
    "color_map = {\"Setosa\": 0, \"Versicolor\": 1, \"Virginica\": 2}\n",
    "df[\"variety_color\"] = df[\"variety\"].map(color_map)\n",
    "df2 = df.copy()\n",
    "df2[\"d_versicolor\"] = df[\"variety\"].apply(lambda x: 1 if x == \"Versicolor\" else 0)\n",
    "df2[\"d_virginica\"] = df[\"variety\"].apply(lambda x: 1 if x == \"Virginica\" else 0)\n",
    "\n",
    "# Initialize two models\n",
    "model1 = LinearRegression()\n",
    "model2 = ElasticNet()\n",
    "\n",
    "# Fit both models\n",
    "model1.fit(\n",
    "    X=df2[[\"petal.width\", \"d_versicolor\", \"d_virginica\"]],\n",
    "    y=df2[\"sepal.width\"],\n",
    ")\n",
    "model2.fit(\n",
    "    X = df[[\"petal.width\", \"variety_color\"]],\n",
    "    y = df[\"sepal.width\"],\n",
    ")"
   ]
  },
  {
   "cell_type": "code",
   "execution_count": 7,
   "id": "96e3374e-0c3c-4258-bd20-b8e53ce67d1c",
   "metadata": {},
   "outputs": [
    {
     "data": {
      "text/plain": [
       "LineaArtifact(name='iris_elasticnet_model', _version=0)"
      ]
     },
     "execution_count": 7,
     "metadata": {},
     "output_type": "execute_result"
    }
   ],
   "source": [
    "lineapy.save(model2, \"iris_elasticnet_model\")"
   ]
  },
  {
   "cell_type": "code",
   "execution_count": 8,
   "id": "7a6dea86-27b1-4ba2-8b5d-937588af4f15",
   "metadata": {},
   "outputs": [
    {
     "name": "stdout",
     "output_type": "stream",
     "text": [
      "import pandas as pd\n",
      "from sklearn.linear_model import ElasticNet, LinearRegression\n",
      "\n",
      "df = pd.read_csv(\n",
      "    \"https://raw.githubusercontent.com/LineaLabs/lineapy/main/examples/tutorials/data/iris.csv\"\n",
      ")\n",
      "color_map = {\"Setosa\": 0, \"Versicolor\": 1, \"Virginica\": 2}\n",
      "df[\"variety_color\"] = df[\"variety\"].map(color_map)\n",
      "model2 = ElasticNet()\n",
      "model2.fit(\n",
      "    X=df[[\"petal.width\", \"variety_color\"]],\n",
      "    y=df[\"sepal.width\"],\n",
      ")\n",
      "\n"
     ]
    }
   ],
   "source": [
    "# Retrieve the model artifact\n",
    "artifact = lineapy.get(\"iris_elasticnet_model\")\n",
    "\n",
    "# Check code for the model artifact\n",
    "print(artifact.get_code())"
   ]
  },
  {
   "cell_type": "code",
   "execution_count": 10,
   "id": "841cc30e-2169-47e1-af18-d97288fc2abc",
   "metadata": {},
   "outputs": [
    {
     "data": {
      "text/html": [
       "<pre style=\"white-space:pre;overflow-x:auto;line-height:normal;font-family:Menlo,'DejaVu Sans Mono',consolas,'Courier New',monospace\">Pipeline source generated in the directory: mini_notes/code/output                           \n",
       "</pre>\n"
      ],
      "text/plain": [
       "Pipeline source generated in the directory: mini_notes/code/output                           \n"
      ]
     },
     "metadata": {},
     "output_type": "display_data"
    },
    {
     "data": {
      "text/html": [
       "<pre style=\"white-space:pre;overflow-x:auto;line-height:normal;font-family:Menlo,'DejaVu Sans Mono',consolas,'Courier New',monospace\">Generated python module iris_model_pipeline.py                                               \n",
       "</pre>\n"
      ],
      "text/plain": [
       "Generated python module iris_model_pipeline.py                                               \n"
      ]
     },
     "metadata": {},
     "output_type": "display_data"
    },
    {
     "data": {
      "text/html": [
       "<pre style=\"white-space:pre;overflow-x:auto;line-height:normal;font-family:Menlo,'DejaVu Sans Mono',consolas,'Courier New',monospace\">Generated Dockerfile iris_model_pipeline_Dockerfile                                          \n",
       "</pre>\n"
      ],
      "text/plain": [
       "Generated Dockerfile iris_model_pipeline_Dockerfile                                          \n"
      ]
     },
     "metadata": {},
     "output_type": "display_data"
    },
    {
     "data": {
      "text/html": [
       "<pre style=\"white-space:pre;overflow-x:auto;line-height:normal;font-family:Menlo,'DejaVu Sans Mono',consolas,'Courier New',monospace\">Generated requirements file iris_model_pipeline_requirements.txt                             \n",
       "</pre>\n"
      ],
      "text/plain": [
       "Generated requirements file iris_model_pipeline_requirements.txt                             \n"
      ]
     },
     "metadata": {},
     "output_type": "display_data"
    },
    {
     "data": {
      "text/html": [
       "<pre style=\"white-space:pre;overflow-x:auto;line-height:normal;font-family:Menlo,'DejaVu Sans Mono',consolas,'Courier New',monospace\">Added Airflow DAG named iris_model_pipeline_dag. Start a run from the Airflow UI or CLI.     \n",
       "</pre>\n"
      ],
      "text/plain": [
       "Added Airflow DAG named iris_model_pipeline_dag. Start a run from the Airflow UI or CLI.     \n"
      ]
     },
     "metadata": {},
     "output_type": "display_data"
    },
    {
     "data": {
      "text/plain": [
       "PosixPath('mini_notes/code/output')"
      ]
     },
     "execution_count": 10,
     "metadata": {},
     "output_type": "execute_result"
    }
   ],
   "source": [
    "lineapy.to_pipeline(\n",
    "    artifacts=[artifact.name],\n",
    "    pipeline_name=\"iris_model_pipeline\",\n",
    "    output_dir=\"mini_notes/code/output/\",\n",
    "    framework=\"AIRFLOW\",\n",
    ")"
   ]
  }
 ],
 "metadata": {
  "kernelspec": {
   "display_name": "portfolio (venv)",
   "language": "python",
   "name": "venv"
  },
  "language_info": {
   "codemirror_mode": {
    "name": "ipython",
    "version": 3
   },
   "file_extension": ".py",
   "mimetype": "text/x-python",
   "name": "python",
   "nbconvert_exporter": "python",
   "pygments_lexer": "ipython3",
   "version": "3.9.7"
  }
 },
 "nbformat": 4,
 "nbformat_minor": 5
}
